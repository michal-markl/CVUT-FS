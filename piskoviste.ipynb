{
 "cells": [
  {
   "attachments": {},
   "cell_type": "markdown",
   "metadata": {},
   "source": [
    "<div>\n",
    "<img src=\"mechanical_engeneering.png\" width=\"360\" align=\"left\"/>\n",
    "</div>"
   ]
  },
  {
   "attachments": {},
   "cell_type": "markdown",
   "metadata": {},
   "source": [
    "<div>\n",
    "    <b style=\"color:#2A80EE\">• This 📘 notebook serves as a testing field for various 🐍 python libraries and their functions.</b><br>\n",
    "    <b style=\"color:#4E6580\">• Author: Michal MARKL</b><br><br>\n",
    "</div>"
   ]
  },
  {
   "attachments": {},
   "cell_type": "markdown",
   "metadata": {},
   "source": [
    "<div>\n",
    "    <b style=\"color:#2A80EE\">IMPORT OF LIBRARIES</b><br>\n",
    "</div>"
   ]
  },
  {
   "cell_type": "code",
   "execution_count": 1,
   "metadata": {},
   "outputs": [],
   "source": [
    "from IPython.display import display, Markdown, Image\n",
    "\n",
    "from sympy.interactive import printing      # Enable \n",
    "printing.init_printing(use_latex=True)      # LaTeX\n",
    "\n",
    "import ipywidgets as wdg\n",
    "\n",
    "import numpy as np\n",
    "import sympy as sp"
   ]
  },
  {
   "attachments": {},
   "cell_type": "markdown",
   "metadata": {},
   "source": [
    "<div>\n",
    "    <b style=\"color:#2A80EE\">IMPORT OF FILES</b><br>\n",
    "</div>"
   ]
  },
  {
   "cell_type": "code",
   "execution_count": null,
   "metadata": {},
   "outputs": [],
   "source": []
  },
  {
   "attachments": {},
   "cell_type": "markdown",
   "metadata": {},
   "source": [
    "<div>\n",
    "    <b style=\"color:#2A80EE\">TRANSPARENT BACK GROUND OF WIDGETS</b><br>\n",
    "</div>"
   ]
  },
  {
   "cell_type": "code",
   "execution_count": 2,
   "metadata": {
    "tags": []
   },
   "outputs": [
    {
     "data": {
      "text/html": [
       "<style>\n",
       ".cell-output-ipywidget-background {\n",
       "   background-color: transparent !important;\n",
       "}\n",
       ".jp-OutputArea-output {\n",
       "   background-color: transparent;\n",
       "}\n",
       "</style>\n"
      ],
      "text/plain": [
       "<IPython.core.display.HTML object>"
      ]
     },
     "metadata": {},
     "output_type": "display_data"
    }
   ],
   "source": [
    "%%html\n",
    "<style>\n",
    ".cell-output-ipywidget-background {\n",
    "   background-color: transparent !important;\n",
    "}\n",
    ".jp-OutputArea-output {\n",
    "   background-color: transparent;\n",
    "}\n",
    "</style>"
   ]
  },
  {
   "attachments": {},
   "cell_type": "markdown",
   "metadata": {},
   "source": [
    "<div>\n",
    "    <b style=\"color:#2A80EE\">DEFINITONS OF GLOBAL VARIABLES AND CONSTANTS</b><br>\n",
    "</div>"
   ]
  },
  {
   "cell_type": "code",
   "execution_count": 3,
   "metadata": {},
   "outputs": [],
   "source": [
    "BLUE1 = '#2A80EE'\n",
    "BLUE1TEX= '{#2A80EE}'"
   ]
  },
  {
   "attachments": {},
   "cell_type": "markdown",
   "metadata": {},
   "source": [
    "<div>\n",
    "    <b style=\"color:#2A80EE\">1. WIDGETS</b><br>\n",
    "</div>"
   ]
  },
  {
   "cell_type": "code",
   "execution_count": 4,
   "metadata": {},
   "outputs": [
    {
     "data": {
      "application/vnd.jupyter.widget-view+json": {
       "model_id": "3c8d85fb70a744618f877f7043ca1af8",
       "version_major": 2,
       "version_minor": 0
      },
      "text/plain": [
       "VBox(children=(Label(value='Input: ', style=LabelStyle(text_color='#2A80EE')), IntSlider(value=0, max=10, orie…"
      ]
     },
     "metadata": {},
     "output_type": "display_data"
    }
   ],
   "source": [
    "slider = wdg.IntSlider(\n",
    "         min=0,\n",
    "         max=10,\n",
    "         step=1,\n",
    "         value=0,\n",
    "         orientation='vertical'\n",
    "    )\n",
    "textIn = wdg.VBox(\n",
    "    [wdg.Label(value=\"Input: \", style={'text_color':BLUE1}),\n",
    "     slider]\n",
    "    )\n",
    "\n",
    "display(textIn)"
   ]
  },
  {
   "cell_type": "code",
   "execution_count": 5,
   "metadata": {},
   "outputs": [
    {
     "name": "stdout",
     "output_type": "stream",
     "text": [
      "0\n"
     ]
    }
   ],
   "source": [
    "print(slider.value)"
   ]
  },
  {
   "attachments": {},
   "cell_type": "markdown",
   "metadata": {},
   "source": [
    "<div>\n",
    "    <b style=\"color:#2A80EE\">2. SYMBOLIC MATH</b><br>\n",
    "</div>"
   ]
  },
  {
   "cell_type": "code",
   "execution_count": 6,
   "metadata": {},
   "outputs": [
    {
     "data": {
      "text/markdown": [
       "\n",
       "Rovnice:\n",
       "                 \n",
       "$$\\color{#2A80EE}{y=\\alpha\\cdot x^2}$$                 \n"
      ],
      "text/plain": [
       "<IPython.core.display.Markdown object>"
      ]
     },
     "metadata": {},
     "output_type": "display_data"
    }
   ],
   "source": [
    "display(Markdown(rf\"\"\"\n",
    "Rovnice:\n",
    "                 \n",
    "$$\\color{BLUE1TEX}{{y=\\alpha\\cdot x^2}}$$                 \n",
    "\"\"\"))"
   ]
  },
  {
   "attachments": {},
   "cell_type": "markdown",
   "metadata": {},
   "source": [
    "Rovnice:\n",
    "\n",
    "$\\color{#2A80EE}{y=e^x}$"
   ]
  },
  {
   "cell_type": "code",
   "execution_count": 7,
   "metadata": {},
   "outputs": [
    {
     "data": {
      "image/png": "[encoded data removed]",
      "text/latex": [
       "$\\displaystyle \\sin{\\left(x \\right)}$"
      ],
      "text/plain": [
       "sin(x)"
      ]
     },
     "metadata": {},
     "output_type": "display_data"
    },
    {
     "data": {
      "image/png": "[encoded data removed]",
      "text/latex": [
       "$\\displaystyle \\int \\sin{\\left(x \\right)}\\, dx$"
      ],
      "text/plain": [
       "⌠          \n",
       "⎮ sin(x) dx\n",
       "⌡          "
      ]
     },
     "metadata": {},
     "output_type": "display_data"
    },
    {
     "data": {
      "image/png": "[encoded data removed]",
      "text/latex": [
       "$\\displaystyle - \\cos{\\left(x \\right)}$"
      ],
      "text/plain": [
       "-cos(x)"
      ]
     },
     "metadata": {},
     "output_type": "display_data"
    },
    {
     "data": {
      "image/png": "[encoded data removed]",
      "text/latex": [
       "$\\displaystyle \\cos{\\left(x \\right)}$"
      ],
      "text/plain": [
       "cos(x)"
      ]
     },
     "metadata": {},
     "output_type": "display_data"
    },
    {
     "data": {
      "image/png": "[encoded data removed]",
      "text/latex": [
       "$\\displaystyle x^{2}$"
      ],
      "text/plain": [
       " 2\n",
       "x "
      ]
     },
     "metadata": {},
     "output_type": "display_data"
    }
   ],
   "source": [
    "def f(x):\n",
    "    return np.sin(x)\n",
    "\n",
    "func = sp.Function('func')\n",
    "x = sp.Symbol('x')\n",
    "\n",
    "func = sp.sin(x)\n",
    "display(func)\n",
    "\n",
    "inte = sp.Integral(func, x)\n",
    "display(inte)\n",
    "\n",
    "answer = sp.integrate(func,x)\n",
    "display(answer)\n",
    "\n",
    "deriv = sp.diff(func)\n",
    "display(deriv)\n",
    "\n",
    "display(x**2)\n"
   ]
  },
  {
   "cell_type": "code",
   "execution_count": 8,
   "metadata": {},
   "outputs": [
    {
     "data": {
      "text/markdown": [
       "\n",
       "$\\color{#2A80EE}sin(x)$                     \n"
      ],
      "text/plain": [
       "<IPython.core.display.Markdown object>"
      ]
     },
     "metadata": {},
     "output_type": "display_data"
    }
   ],
   "source": [
    "def printlat(function):\n",
    "    display(Markdown(rf\"\"\"\n",
    "$\\color{BLUE1TEX}{function}$                     \n",
    "\"\"\"))\n",
    "    \n",
    "printlat(func)"
   ]
  },
  {
   "cell_type": "code",
   "execution_count": 9,
   "metadata": {},
   "outputs": [
    {
     "data": {
      "image/png": "[encoded data removed]",
      "text/latex": [
       "$\\displaystyle \\frac{x^{2} e^{x}}{2}$"
      ],
      "text/plain": [
       " 2  x\n",
       "x ⋅ℯ \n",
       "─────\n",
       "  2  "
      ]
     },
     "metadata": {},
     "output_type": "display_data"
    },
    {
     "data": {
      "image/png": "[encoded data removed]",
      "text/latex": [
       "$\\displaystyle \\frac{x^{2} e^{x}}{2} + x e^{x}$"
      ],
      "text/plain": [
       " 2  x       \n",
       "x ⋅ℯ       x\n",
       "───── + x⋅ℯ \n",
       "  2         "
      ]
     },
     "metadata": {},
     "output_type": "display_data"
    },
    {
     "data": {
      "image/png": "[encoded data removed]",
      "text/latex": [
       "$\\displaystyle \\frac{e}{2}$"
      ],
      "text/plain": [
       "ℯ\n",
       "─\n",
       "2"
      ]
     },
     "metadata": {},
     "output_type": "display_data"
    }
   ],
   "source": [
    "expr = x**2*sp.exp(x)/2\n",
    "display(expr)\n",
    "\n",
    "res = sp.diff(expr)\n",
    "display(res)\n",
    "\n",
    "inte = sp.integrate(res, (x,0,1))\n",
    "display(inte)"
   ]
  },
  {
   "attachments": {},
   "cell_type": "markdown",
   "metadata": {},
   "source": [
    "<div>\n",
    "    <b style=\"color:#2A80EE\">3. PLOTS</b><br>\n",
    "</div>"
   ]
  },
  {
   "cell_type": "code",
   "execution_count": null,
   "metadata": {},
   "outputs": [],
   "source": []
  },
  {
   "attachments": {},
   "cell_type": "markdown",
   "metadata": {},
   "source": [
    "<div>\n",
    "    <div style=\"display:inline-block;vertical-align:top;\">\n",
    "        <img src=\"prvodovka.gif\" width=\"320\" horizontal-align=\"center\"/>\n",
    "    </div>\n",
    "    <div style=\"display:inline-block;\">\n",
    "        text\n",
    "    </div>\n",
    "</div>\n"
   ]
  },
  {
   "attachments": {},
   "cell_type": "markdown",
   "metadata": {},
   "source": [
    "<link rel=\"stylesheet\" href=\"piskoviste_stylesheet.css\">\n",
    "<div style=\"color:blue\">\n",
    "    <img class=\"dwg\" src=\"sdPS1.png\" width=520/>\n",
    "    <img class=\"dwg\" src=\"sdPS2.png\" width=520/>\n",
    "    <img class=\"dwg\" src=\"sdPS3.png\" width=520/>\n",
    "    <img class=\"dwg\" src=\"mzPS3.png\" width=680/>\n",
    "    <img class=\"dwg\" src=\"ssFPS1.png\" width=620/>\n",
    "    <img class=\"dwg\" src=\"ssDPS1.png\" width=620/>\n",
    "</div>\n",
    "<div>\n",
    "    <img src=\"sdAI1.png\" width=520/>\n",
    "    <img src=\"sdAI2.png\" width=520/>\n",
    "</div>"
   ]
  },
  {
   "attachments": {},
   "cell_type": "markdown",
   "metadata": {},
   "source": [
    "## **Nadpis1**\n",
    "Odstavec s **tučným písmem** a *naklopeným* písmem.\n",
    "\n",
    "Rovnice $y=x^2$\n",
    "\n",
    "<div style=\"color:#2A80EE\">\n",
    "aaa\n",
    "</div>\n",
    "\n",
    "!!! note finished"
   ]
  },
  {
   "cell_type": "markdown",
   "metadata": {},
   "source": [
    ".\n",
    "<div>\n",
    "    <b style=\"color:#2A80EE\">\n",
    "        NADPIS\n",
    "    </b><br>\n",
    "    $\\frac{x}{y}$\n",
    "</div>\n",
    "\n",
    "$\\frac{x}{y}$"
   ]
  }
 ],
 "metadata": {
  "kernelspec": {
   "display_name": "Python 3 (ipykernel)",
   "language": "python",
   "name": "python3"
  },
  "language_info": {
   "codemirror_mode": {
    "name": "ipython",
    "version": 3
   },
   "file_extension": ".py",
   "mimetype": "text/x-python",
   "name": "python",
   "nbconvert_exporter": "python",
   "pygments_lexer": "ipython3",
   "version": "3.11.0"
  }
 },
 "nbformat": 4,
 "nbformat_minor": 2
}

{
 "cells": [
  {
   "cell_type": "markdown",
   "metadata": {},
   "source": [
    "<body>    \n",
    "    <div style=\"float:left; width:30%\">\n",
    "        <img src=\"..\\Images\\CTU_logo_banner.png\" width=\"360\" align=\"left\"/>\n",
    "    </div>\n",
    "</body>"
   ]
  },
  {
   "cell_type": "markdown",
   "metadata": {},
   "source": [
    "<div>\n",
    "    <b style=\"color:#2A80EE; font-size:32px\">📘 ZÁKLADY TECHNOLOGIE I </b><a href=\"https://new.kos.cvut.cz/course-syllabus/2333041\" style=\"color:#2A80EE; font-size:32px\">2333041</a><br>\n",
    "    <b style=\"color:#4E6580\">Author: Michal MARKL</b><br><br>\n",
    "</div>\n",
    "<hr>"
   ]
  },
  {
   "cell_type": "markdown",
   "metadata": {},
   "source": [
    "<b style=\"font-size:24px; color:#2A80EE\">ZÁKLADNÍ POJMY</b><br>\n",
    "\n",
    "**TECHNOLOGIE** = nauka o výrobních postupech, metodáchm strojích a zařízeních, jimiž se suroviny nebo polotovary mění na hotový výrobek\n",
    "\n",
    "**SLÉVANÍ** = proces, kterým se na základě slévárenských vlastností vyrábí odlitky\n",
    "\n",
    "**TVÁŘENÍ** = proces, při kterém se působěním vnějších sil mění tvar, rozměry a vlastnosti polotovaru v důsledku deformace bez porušení materiálu\n",
    "\n",
    "**SVAŘOVÁNÍ** = proces, při kterém se materiály spojují v nerozebíratelný celek působením tepla nebo tlaku"
   ]
  },
  {
   "cell_type": "markdown",
   "metadata": {},
   "source": [
    "<b style=\"font-size:24px; color:#2A80EE\">VLASTNOSTI KOVŮ</b><br>\n",
    "\n",
    "**FYZIKÁLNÍ** - projevují se přímo vnitřní stavbou materiálu bez působení vnějšího mechanického namáhání (hustota, modul pružnosti v tahu, teplotní délková roztažnost)\n",
    "\n",
    "**CHEMICKÉ** - popisují chování materiálu při různých teplotách v různých prostředích (žáruvzdornost, žárupevnost)\n",
    "\n",
    "**MECHANICKÉ** - jsou určeny působením vnějších faktorů, tyto vlastnosti se zjišťují mechanickými zkouškami (tahová, rázová)\n",
    "\n",
    "**TECHNOLOGICKÉ** - jsou závislé na souboru fyzikálních, chemických a mechanických vlastnostech; nelze je vyjádřit v přesně definovaných základních veličinách\n",
    "\n",
    "  **SLÉVATELNOST** - "
   ]
  }
 ],
 "metadata": {
  "kernelspec": {
   "display_name": "Python 3",
   "language": "python",
   "name": "python3"
  },
  "language_info": {
   "codemirror_mode": {
    "name": "ipython",
    "version": 3
   },
   "file_extension": ".py",
   "mimetype": "text/x-python",
   "name": "python",
   "nbconvert_exporter": "python",
   "pygments_lexer": "ipython3",
   "version": "3.11.0"
  },
  "orig_nbformat": 4
 },
 "nbformat": 4,
 "nbformat_minor": 2
}

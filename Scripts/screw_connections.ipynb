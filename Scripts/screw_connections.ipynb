{
 "cells": [
  {
   "cell_type": "markdown",
   "metadata": {},
   "source": [
    "<body>    \n",
    "    <div width=\"1200\">\n",
    "        <img src=\"..\\Images\\CTU_logo_banner.png\" width=\"360\" align=\"left\"/>\n",
    "</body>"
   ]
  },
  {
   "cell_type": "markdown",
   "metadata": {},
   "source": [
    "<h4 style=\"color: #2A80EE;\"><b>SCREW CONNECTIONS CALCULATOR 2.0</b></h4>\n",
    "<p style=\"color: #2A80EE;\"><b>Author: Michal Markl</b></p>\n",
    "\n",
    "This program is supposed to **calculate** the screw connection based on the input values, such as count and height of volumes being connected and used screws, nuts, pads, etc. and **display** the connection.<hr>"
   ]
  },
  {
   "cell_type": "markdown",
   "metadata": {},
   "source": [
    "#### **CELL 1: INPUT FROM THE USER**"
   ]
  },
  {
   "cell_type": "code",
   "execution_count": 102,
   "metadata": {},
   "outputs": [],
   "source": [
    "# Input the height [mm] of DESK 1\n",
    "# (required):\n",
    "DESK1 = 20\n",
    "# Input the height [mm] of DESK 2\n",
    "# (required):\n",
    "DESK2 = 30\n",
    "# Input the height [mm] of DESK 3\n",
    "# (leave \"None\" if not used):\n",
    "DESK3 = None\n",
    "# Input the height [mm] of DESK 4\n",
    "# (leave \"None\" if not used):\n",
    "DESK4 = None\n",
    "# Input whether the hole is blind or through\n",
    "# (True or False):\n",
    "THRU = True\n",
    "# Input the MATERIAL of the desks\n",
    "# (Steel = 's', Alluminium = 'a', Cast Iron = 'c'):\n",
    "MAT = 's'\n",
    "# Input the THREAD DIAMETER:\n",
    "MD = 10\n",
    "# Input the SCREW TYPE\n",
    "# ():\n",
    "STYPE = \"\"\n",
    "# Input type of PAD 1\n",
    "# (ČSN 02 1702 A or B = 'a',\n",
    "#  ČSN 02 1702 B = 'b',\n",
    "#  ČSN 02 1740 = 'c',\n",
    "#  leave \"None\" if not used):\n",
    "PAD1 = \"a\"\n",
    "# Input type of PAD 2\n",
    "# (ČSN 02 1702 A = 'a',\n",
    "#  ČSN 02 1702 B = 'b',\n",
    "#  ČSN 02 1740 = 'c',\n",
    "#  leave \"None\" if not used):\n",
    "PAD2 = None\n",
    "\n",
    "\n",
    "AllowConsole = True"
   ]
  },
  {
   "cell_type": "markdown",
   "metadata": {},
   "source": [
    "#### **CELL 2: IMPORT LIBRARIES AND FILES**"
   ]
  },
  {
   "cell_type": "code",
   "execution_count": 98,
   "metadata": {},
   "outputs": [],
   "source": [
    "from math import *"
   ]
  },
  {
   "cell_type": "markdown",
   "metadata": {},
   "source": [
    "#### **CELL 3: DECLARE AND DEFINE FUNCTIONS**"
   ]
  },
  {
   "cell_type": "code",
   "execution_count": 99,
   "metadata": {},
   "outputs": [],
   "source": [
    "def cntK(material):\n",
    "    k = 0\n",
    "    match material:\n",
    "        case 's':\n",
    "            k = 1\n",
    "        case 'c':\n",
    "            k = 1.25\n",
    "        case 'a':\n",
    "            k = 2\n",
    "        case _ :\n",
    "            if AllowConsole:\n",
    "                print(\"[ERROR] Material unrecognized\")\n",
    "    if AllowConsole:\n",
    "        print(f\"[INFO] k = {k}\")\n",
    "    return k\n",
    "\n",
    "def cntLenIn(desks, threadDiameter):\n",
    "    isThrough = desks[4]\n",
    "    length = 0\n",
    "    if isThrough:\n",
    "        for desk in desks:\n",
    "            if desk and type(desk) is int:\n",
    "                length += desk\n",
    "    elif not isThrough:\n",
    "        desktmp = 0\n",
    "        for desk in desks:\n",
    "            if desk and type(desk) is int:\n",
    "                length += desk\n",
    "                desktmp = desk\n",
    "        length -= desktmp\n",
    "        length += cntK(desks[5]) * threadDiameter\n",
    "    else:\n",
    "        pass\n",
    "    if AllowConsole:\n",
    "        print(f\"[INFO] Length inside = {length}\")\n",
    "    return length\n",
    "\n",
    "def cntPad():\n",
    "    \n",
    "\n",
    "def cntLenOut():\n",
    "    pass"
   ]
  },
  {
   "cell_type": "markdown",
   "metadata": {},
   "source": [
    "#### **CELL 4: MAIN RUN OF THE PROGRAM**"
   ]
  },
  {
   "cell_type": "code",
   "execution_count": 100,
   "metadata": {},
   "outputs": [
    {
     "name": "stdout",
     "output_type": "stream",
     "text": [
      "[INFO] Length inside = 50\n"
     ]
    }
   ],
   "source": [
    "deskArr = [DESK1, DESK2, DESK3, DESK4, THRU, MAT]\n",
    "padArr = [PAD1, PAD2]\n",
    "\n",
    "lenIn = 0       # length INSIDE the material\n",
    "lenOut = 0      # length OUTSIDE the material\n",
    "\n",
    "lenIn = cntLenIn(deskArr, MD)"
   ]
  },
  {
   "cell_type": "markdown",
   "metadata": {},
   "source": [
    "#### **CELL 5: OUTPUT**"
   ]
  },
  {
   "cell_type": "code",
   "execution_count": 114,
   "metadata": {},
   "outputs": [
    {
     "name": "stdout",
     "output_type": "stream",
     "text": [
      "50 0\n",
      "0.2\n",
      "1.1\n",
      "1.9\n",
      "4.4\n",
      "7.8\n",
      "9.0\n",
      "12.0\n",
      "16.2\n"
     ]
    }
   ],
   "source": [
    "print(lenIn, lenOut)\n",
    "\n",
    "xarr = [1.6, 5, 7, 14, 24, 27, 36, 48]\n",
    "for x in xarr:\n",
    "    print(round(0.1 * x + 0.3 * floor((x - 1.6) / 1.2), 1))"
   ]
  }
 ],
 "metadata": {
  "kernelspec": {
   "display_name": "Python 3",
   "language": "python",
   "name": "python3"
  },
  "language_info": {
   "codemirror_mode": {
    "name": "ipython",
    "version": 3
   },
   "file_extension": ".py",
   "mimetype": "text/x-python",
   "name": "python",
   "nbconvert_exporter": "python",
   "pygments_lexer": "ipython3",
   "version": "3.11.0"
  },
  "orig_nbformat": 4
 },
 "nbformat": 4,
 "nbformat_minor": 2
}

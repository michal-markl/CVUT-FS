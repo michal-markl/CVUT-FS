{
 "cells": [
  {
   "cell_type": "markdown",
   "metadata": {},
   "source": [
    "<body>    \n",
    "    <div width=\"1200\">\n",
    "        <img src=\"..\\Images\\CTU_logo_banner.png\" width=\"360\" align=\"left\"/>\n",
    "</body>"
   ]
  },
  {
   "cell_type": "code",
   "execution_count": 40,
   "metadata": {},
   "outputs": [],
   "source": [
    "from math import *"
   ]
  },
  {
   "cell_type": "code",
   "execution_count": 41,
   "metadata": {},
   "outputs": [],
   "source": [
    "JR = 25\n",
    "VMAX = None\n",
    "VMIN = None\n",
    "PMAX = None\n",
    "PMIN = None\n",
    "IT = 7\n",
    "err = False"
   ]
  },
  {
   "cell_type": "code",
   "execution_count": 42,
   "metadata": {},
   "outputs": [
    {
     "name": "stdout",
     "output_type": "stream",
     "text": [
      "*\n"
     ]
    }
   ],
   "source": [
    "# IT5÷IT18, JR <= 500mm\n",
    "if JR > 0 and JR <= 500: \n",
    "    i = 0.45*(JR**(1/3)) + 0.001*JR # microm\n",
    "elif JR > 500 and JR <= 3150:\n",
    "    i = 0.4*JR + 2.1 # microm\n",
    "else:\n",
    "    err = True\n",
    "\n",
    "\n",
    "itDefault = 0\n",
    "if JR > 500 and JR <= 3150:\n",
    "    match IT:\n",
    "        case 1:\n",
    "            itDefault = 2*i\n",
    "        case 2:\n",
    "            itDefault = 2.7*i\n",
    "        case 3:\n",
    "            itDefault = 3.7*i\n",
    "        case 4:\n",
    "            itDefault = 5*i\n",
    "        case _:\n",
    "            pass\n",
    "match IT:\n",
    "    case 5:\n",
    "        itDefault = 7*i\n",
    "    case 6:\n",
    "        itDefault = 10*i\n",
    "    case 7:\n",
    "        itDefault = 16*i\n",
    "    case 8:\n",
    "        itDefault = 25*i\n",
    "    case 9:\n",
    "        itDefault = 40*i\n",
    "    case 10:\n",
    "        itDefault = 64*i\n",
    "    case 11:\n",
    "        itDefault = 100*i\n",
    "    case 12:\n",
    "        itDefault = 160*i\n",
    "    case 13:\n",
    "        itDefault = 250*i\n",
    "    case 14:\n",
    "        itDefault = 400*i\n",
    "    case 15:\n",
    "        itDefault = 640*i\n",
    "    case 16:\n",
    "        itDefault = 1000*i\n",
    "    case 17:\n",
    "        itDefault = 1600*i\n",
    "    case 18:\n",
    "        itDefault = 2500*i\n",
    "\n",
    "\n",
    "if IT < 4:\n",
    "    itDefault = round(itDefault, 1)\n",
    "else:\n",
    "    itDefault = round(itDefault)"
   ]
  },
  {
   "cell_type": "code",
   "execution_count": 43,
   "metadata": {},
   "outputs": [
    {
     "name": "stdout",
     "output_type": "stream",
     "text": [
      "21\n",
      "False\n"
     ]
    }
   ],
   "source": [
    "print(itDefault)\n",
    "print(err)"
   ]
  }
 ],
 "metadata": {
  "kernelspec": {
   "display_name": "Python 3",
   "language": "python",
   "name": "python3"
  },
  "language_info": {
   "codemirror_mode": {
    "name": "ipython",
    "version": 3
   },
   "file_extension": ".py",
   "mimetype": "text/x-python",
   "name": "python",
   "nbconvert_exporter": "python",
   "pygments_lexer": "ipython3",
   "version": "3.11.0"
  },
  "orig_nbformat": 4
 },
 "nbformat": 4,
 "nbformat_minor": 2
}
